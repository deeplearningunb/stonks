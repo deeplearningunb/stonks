{
 "cells": [
  {
   "cell_type": "code",
   "execution_count": 1,
   "metadata": {},
   "outputs": [
    {
     "name": "stderr",
     "output_type": "stream",
     "text": [
      "Using TensorFlow backend.\n"
     ]
    }
   ],
   "source": [
    "from keras.models import Sequential\n",
    "from keras.layers import Dense, Dropout, LSTM\n",
    "from sklearn.preprocessing import MinMaxScaler\n",
    "import numpy as np\n",
    "import pandas as pd\n",
    "import matplotlib.pyplot as plt\n",
    "from keras.callbacks import EarlyStopping, ReduceLROnPlateau"
   ]
  },
  {
   "cell_type": "markdown",
   "metadata": {},
   "source": [
    "# Pre processing data"
   ]
  },
  {
   "cell_type": "code",
   "execution_count": 2,
   "metadata": {},
   "outputs": [],
   "source": [
    "base = pd.read_csv('../Dataset/Training/TSLA.csv')\n",
    "base = base.dropna()\n",
    "base_training = base.iloc[:, 1:5].values\n",
    "base_open_value = base.iloc[:, 3:4].values\n",
    "base_close_value = base.iloc[:, 4:5].values\n",
    "\n",
    "normalizer = MinMaxScaler(feature_range=(0,1))\n",
    "base_training_normalized = normalizer.fit_transform(base_training)\n",
    "base_open_value_normalized = normalizer.fit_transform(base_open_value)\n",
    "base_close_value_normalized = normalizer.fit_transform(base_close_value)"
   ]
  },
  {
   "cell_type": "markdown",
   "metadata": {},
   "source": [
    "# Adding multiple predictors"
   ]
  },
  {
   "cell_type": "code",
   "execution_count": 3,
   "metadata": {},
   "outputs": [],
   "source": [
    "predictors = []\n",
    "open_price = []\n",
    "close_price = []\n",
    "\n",
    "for i in range(90, 2352):\n",
    "    predictors.append(base_training_normalized[i-90:i, 0:4])\n",
    "    open_price.append(base_open_value_normalized[i, 0])\n",
    "    close_price.append(base_close_value_normalized[i, 0])\n",
    "\n",
    "predictors = np.array(predictors)\n",
    "open_price = np.array(open_price)\n",
    "close_price = np.array(close_price)\n",
    "\n",
    "prices = np.column_stack((open_price, close_price))"
   ]
  },
  {
   "cell_type": "markdown",
   "metadata": {},
   "source": [
    "# Adding classifier"
   ]
  },
  {
   "cell_type": "code",
   "execution_count": 4,
   "metadata": {},
   "outputs": [],
   "source": [
    "regressor = Sequential()"
   ]
  },
  {
   "cell_type": "markdown",
   "metadata": {},
   "source": [
    "# Adding the layers"
   ]
  },
  {
   "cell_type": "code",
   "execution_count": 5,
   "metadata": {},
   "outputs": [],
   "source": [
    "# Adding the first LSTM layer\n",
    "regressor.add(LSTM(units = 100, return_sequences = True, input_shape = (predictors.shape[1], 4)))\n",
    "regressor.add(Dropout(0.3))\n",
    "\n",
    "# Adding the second LSTM layer\n",
    "regressor.add(LSTM(units = 50, return_sequences = True))\n",
    "regressor.add(Dropout(0.3))\n",
    "\n",
    "# Adding the third LSTM layer\n",
    "regressor.add(LSTM(units = 50, return_sequences = True))\n",
    "regressor.add(Dropout(0.3))\n",
    "\n",
    "# Adding the fourth LSTM layer\n",
    "regressor.add(LSTM(units = 50))\n",
    "regressor.add(Dropout(0.3))\n",
    "\n",
    "# Adding the output layer\n",
    "regressor.add(Dense(units = 2, activation = 'linear'))"
   ]
  },
  {
   "cell_type": "markdown",
   "metadata": {},
   "source": [
    "# Compiling rnn"
   ]
  },
  {
   "cell_type": "code",
   "execution_count": 6,
   "metadata": {},
   "outputs": [
    {
     "name": "stdout",
     "output_type": "stream",
     "text": [
      "Epoch 1/200\n",
      "2262/2262 [==============================] - 11s 5ms/step - loss: 0.0275\n",
      "Epoch 2/200\n",
      "2262/2262 [==============================] - 8s 4ms/step - loss: 0.0151\n",
      "Epoch 3/200\n",
      "2262/2262 [==============================] - 9s 4ms/step - loss: 0.0114\n",
      "Epoch 4/200\n",
      "2262/2262 [==============================] - 10s 4ms/step - loss: 0.0109\n",
      "Epoch 5/200\n",
      "2262/2262 [==============================] - 10s 4ms/step - loss: 0.0085\n",
      "Epoch 6/200\n",
      "2262/2262 [==============================] - 10s 5ms/step - loss: 0.0081\n",
      "Epoch 7/200\n",
      "2262/2262 [==============================] - 10s 4ms/step - loss: 0.0076\n",
      "Epoch 8/200\n",
      "2262/2262 [==============================] - 10s 5ms/step - loss: 0.0066\n",
      "Epoch 9/200\n",
      "2262/2262 [==============================] - 11s 5ms/step - loss: 0.0066\n",
      "Epoch 10/200\n",
      "2262/2262 [==============================] - 10s 4ms/step - loss: 0.0061\n",
      "Epoch 11/200\n",
      "2262/2262 [==============================] - 10s 4ms/step - loss: 0.0057\n",
      "Epoch 12/200\n",
      "2262/2262 [==============================] - 10s 4ms/step - loss: 0.0052\n",
      "Epoch 13/200\n",
      "2262/2262 [==============================] - 10s 4ms/step - loss: 0.0050\n",
      "Epoch 14/200\n",
      "2262/2262 [==============================] - 10s 4ms/step - loss: 0.0048\n",
      "Epoch 15/200\n",
      "2262/2262 [==============================] - 10s 4ms/step - loss: 0.0047\n",
      "Epoch 16/200\n",
      "2262/2262 [==============================] - 10s 4ms/step - loss: 0.0042\n",
      "Epoch 17/200\n",
      "2262/2262 [==============================] - 10s 4ms/step - loss: 0.0039\n",
      "Epoch 18/200\n",
      "2262/2262 [==============================] - 10s 4ms/step - loss: 0.0041\n",
      "Epoch 19/200\n",
      "2262/2262 [==============================] - 10s 5ms/step - loss: 0.0038\n",
      "Epoch 20/200\n",
      "2262/2262 [==============================] - 10s 5ms/step - loss: 0.0039\n",
      "Epoch 21/200\n",
      "2262/2262 [==============================] - 10s 5ms/step - loss: 0.0035\n",
      "Epoch 22/200\n",
      "2262/2262 [==============================] - 11s 5ms/step - loss: 0.0035\n",
      "Epoch 23/200\n",
      "2262/2262 [==============================] - 10s 5ms/step - loss: 0.0034\n",
      "Epoch 24/200\n",
      "2262/2262 [==============================] - 10s 5ms/step - loss: 0.0031\n",
      "Epoch 25/200\n",
      "2262/2262 [==============================] - 11s 5ms/step - loss: 0.0032\n",
      "Epoch 26/200\n",
      "2262/2262 [==============================] - 10s 5ms/step - loss: 0.0033\n",
      "Epoch 27/200\n",
      "2262/2262 [==============================] - 10s 4ms/step - loss: 0.0029\n",
      "Epoch 28/200\n",
      "2262/2262 [==============================] - 10s 4ms/step - loss: 0.0031\n",
      "Epoch 29/200\n",
      "2262/2262 [==============================] - 10s 4ms/step - loss: 0.0030\n",
      "Epoch 30/200\n",
      "2262/2262 [==============================] - 10s 4ms/step - loss: 0.0030\n",
      "Epoch 31/200\n",
      "2262/2262 [==============================] - 10s 5ms/step - loss: 0.0028\n",
      "Epoch 32/200\n",
      "2262/2262 [==============================] - 10s 4ms/step - loss: 0.0028\n",
      "Epoch 33/200\n",
      "2262/2262 [==============================] - 10s 4ms/step - loss: 0.0028\n",
      "Epoch 34/200\n",
      "2262/2262 [==============================] - 10s 4ms/step - loss: 0.0029\n",
      "Epoch 35/200\n",
      "2262/2262 [==============================] - 10s 4ms/step - loss: 0.0029\n",
      "Epoch 36/200\n",
      "2262/2262 [==============================] - 10s 5ms/step - loss: 0.0024\n",
      "Epoch 37/200\n",
      "2262/2262 [==============================] - 10s 5ms/step - loss: 0.0027\n",
      "Epoch 38/200\n",
      "2262/2262 [==============================] - 10s 4ms/step - loss: 0.0024\n",
      "Epoch 39/200\n",
      "2262/2262 [==============================] - 10s 4ms/step - loss: 0.0025\n",
      "Epoch 40/200\n",
      "2262/2262 [==============================] - 10s 4ms/step - loss: 0.0025\n",
      "Epoch 41/200\n",
      "2262/2262 [==============================] - 10s 5ms/step - loss: 0.0025\n",
      "\n",
      "Epoch 00041: ReduceLROnPlateau reducing learning rate to 0.00020000000949949026.\n",
      "Epoch 42/200\n",
      "2262/2262 [==============================] - 11s 5ms/step - loss: 0.0019\n",
      "Epoch 43/200\n",
      "2262/2262 [==============================] - 10s 5ms/step - loss: 0.0018\n",
      "Epoch 44/200\n",
      "2262/2262 [==============================] - 10s 4ms/step - loss: 0.0018\n",
      "Epoch 45/200\n",
      "2262/2262 [==============================] - 10s 4ms/step - loss: 0.0017\n",
      "Epoch 46/200\n",
      "2262/2262 [==============================] - 10s 4ms/step - loss: 0.0016\n",
      "Epoch 47/200\n",
      "2262/2262 [==============================] - 10s 4ms/step - loss: 0.0017\n",
      "Epoch 48/200\n",
      "2262/2262 [==============================] - 10s 4ms/step - loss: 0.0017\n",
      "Epoch 49/200\n",
      "2262/2262 [==============================] - 12s 5ms/step - loss: 0.0017\n",
      "Epoch 50/200\n",
      "2262/2262 [==============================] - 11s 5ms/step - loss: 0.0016\n",
      "Epoch 51/200\n",
      "2262/2262 [==============================] - 10s 4ms/step - loss: 0.0017\n",
      "\n",
      "Epoch 00051: ReduceLROnPlateau reducing learning rate to 4.0000001899898055e-05.\n",
      "Epoch 52/200\n",
      "2262/2262 [==============================] - 10s 5ms/step - loss: 0.0016\n",
      "Epoch 53/200\n",
      "2262/2262 [==============================] - 10s 4ms/step - loss: 0.0016\n",
      "Epoch 54/200\n",
      "2262/2262 [==============================] - 11s 5ms/step - loss: 0.0016\n",
      "Epoch 55/200\n",
      "2262/2262 [==============================] - 11s 5ms/step - loss: 0.0017\n",
      "Epoch 56/200\n",
      "2262/2262 [==============================] - 11s 5ms/step - loss: 0.0016\n",
      "\n",
      "Epoch 00056: ReduceLROnPlateau reducing learning rate to 8.000000525498762e-06.\n",
      "Epoch 57/200\n",
      "2262/2262 [==============================] - 12s 5ms/step - loss: 0.0016\n",
      "Epoch 58/200\n",
      "2262/2262 [==============================] - 13s 6ms/step - loss: 0.0016\n",
      "Epoch 59/200\n",
      "2262/2262 [==============================] - 13s 6ms/step - loss: 0.0016\n",
      "Epoch 60/200\n",
      "2262/2262 [==============================] - 13s 6ms/step - loss: 0.0016\n",
      "Epoch 61/200\n",
      "2262/2262 [==============================] - 12s 5ms/step - loss: 0.0016\n",
      "\n",
      "Epoch 00061: ReduceLROnPlateau reducing learning rate to 1.6000001778593287e-06.\n",
      "Epoch 62/200\n",
      "2262/2262 [==============================] - 13s 6ms/step - loss: 0.0016\n",
      "Epoch 63/200\n",
      "2262/2262 [==============================] - 12s 5ms/step - loss: 0.0016\n",
      "Epoch 64/200\n",
      "2262/2262 [==============================] - 12s 5ms/step - loss: 0.0016\n",
      "Epoch 65/200\n",
      "2262/2262 [==============================] - 12s 5ms/step - loss: 0.0015\n",
      "Epoch 66/200\n",
      "2262/2262 [==============================] - 13s 6ms/step - loss: 0.0017\n",
      "\n",
      "Epoch 00066: ReduceLROnPlateau reducing learning rate to 3.200000264769187e-07.\n",
      "Epoch 67/200\n",
      "2262/2262 [==============================] - 12s 5ms/step - loss: 0.0015\n",
      "Epoch 68/200\n",
      "2262/2262 [==============================] - 12s 5ms/step - loss: 0.0016\n",
      "Epoch 69/200\n",
      "2262/2262 [==============================] - 12s 5ms/step - loss: 0.0015\n",
      "Epoch 70/200\n",
      "2262/2262 [==============================] - 12s 6ms/step - loss: 0.0017\n",
      "Epoch 71/200\n",
      "2262/2262 [==============================] - 12s 5ms/step - loss: 0.0015\n",
      "Epoch 72/200\n",
      "2262/2262 [==============================] - 12s 5ms/step - loss: 0.0016\n",
      "\n",
      "Epoch 00072: ReduceLROnPlateau reducing learning rate to 6.400000529538374e-08.\n",
      "Epoch 73/200\n",
      "2262/2262 [==============================] - 11s 5ms/step - loss: 0.0016\n",
      "Epoch 74/200\n",
      "2262/2262 [==============================] - 11s 5ms/step - loss: 0.0015\n",
      "Epoch 75/200\n",
      "2262/2262 [==============================] - 11s 5ms/step - loss: 0.0015\n",
      "Epoch 76/200\n",
      "2262/2262 [==============================] - 11s 5ms/step - loss: 0.0016\n",
      "Epoch 77/200\n",
      "2262/2262 [==============================] - 11s 5ms/step - loss: 0.0015\n",
      "\n",
      "Epoch 00077: ReduceLROnPlateau reducing learning rate to 1.2800001059076749e-08.\n",
      "Epoch 78/200\n",
      "2262/2262 [==============================] - 11s 5ms/step - loss: 0.0016\n",
      "Epoch 79/200\n",
      "2262/2262 [==============================] - 12s 5ms/step - loss: 0.0015\n",
      "Epoch 80/200\n",
      "2262/2262 [==============================] - 12s 5ms/step - loss: 0.0015\n",
      "Epoch 81/200\n",
      "2262/2262 [==============================] - 12s 5ms/step - loss: 0.0015\n",
      "Epoch 00081: early stopping\n"
     ]
    },
    {
     "data": {
      "text/plain": [
       "<keras.callbacks.callbacks.History at 0x7f91350c6eb8>"
      ]
     },
     "execution_count": 6,
     "metadata": {},
     "output_type": "execute_result"
    }
   ],
   "source": [
    "regressor.compile(optimizer = 'rmsprop', loss = 'mean_squared_error')\n",
    "\n",
    "early_stop = EarlyStopping(monitor = 'loss', min_delta = 1e-10, patience = 10, verbose = 1)\n",
    "rlr = ReduceLROnPlateau(monitor = 'loss', factor = 0.2, patience = 5, verbose = 1)\n",
    "\n",
    "regressor.fit(predictors, prices, epochs = 200, batch_size = 32,\n",
    "              callbacks = [early_stop, rlr])  "
   ]
  },
  {
   "cell_type": "markdown",
   "metadata": {},
   "source": [
    "# Testing rnn"
   ]
  },
  {
   "cell_type": "code",
   "execution_count": 7,
   "metadata": {},
   "outputs": [
    {
     "data": {
      "text/plain": [
       "336.17863741788"
      ]
     },
     "execution_count": 7,
     "metadata": {},
     "output_type": "execute_result"
    }
   ],
   "source": [
    "base_test = pd.read_csv('../Dataset/Test/TSLA.csv')\n",
    "base_real_open_value = base_test.iloc[:, 3:4].values\n",
    "base_real_close_value = base_test.iloc[:, 4:5].values\n",
    "\n",
    "frames = [base, base_test]\n",
    "base_complet = pd.concat(frames) \n",
    "base_complet = base_complet.drop('Date', axis = 1)\n",
    "\n",
    "entry = base_complet[len(base_complet) - len(base_test) - 90:].values\n",
    "entry = normalizer.transform(entry)\n",
    "\n",
    "x_test = []\n",
    "for i in range(90, 112):\n",
    "    x_test.append(entry[i-90:i, 0:4])\n",
    "x_test = np.array(x_test)\n",
    "\n",
    "prediction = regressor.predict(x_test)\n",
    "prediction = normalizer.inverse_transform(prediction)\n",
    "\n",
    "prediction.mean()\n",
    "base_real_open_value.mean()\n",
    "base_real_close_value.mean()"
   ]
  },
  {
   "cell_type": "markdown",
   "metadata": {},
   "source": [
    "# Results"
   ]
  },
  {
   "cell_type": "code",
   "execution_count": 8,
   "metadata": {},
   "outputs": [
    {
     "data": {
      "image/png": "[encoded data removed]",
      "text/plain": [
       "<Figure size 432x288 with 1 Axes>"
      ]
     },
     "metadata": {
      "needs_background": "light"
     },
     "output_type": "display_data"
    }
   ],
   "source": [
    "plt.plot(base_real_open_value, color = 'blue', label = 'Real open price')\n",
    "plt.plot(base_real_close_value, color = 'black', label = 'Real close price')\n",
    "\n",
    "plt.plot(prediction[:, 0], color = 'red', label = 'Open price prediction')\n",
    "plt.plot(prediction[:, 1], color = 'yellow', label = 'Close price prediction')\n",
    "\n",
    "plt.title('Prediction of Stocks Prices')\n",
    "plt.xlabel('Time')\n",
    "plt.ylabel('Price')\n",
    "plt.legend()\n",
    "plt.show()"
   ]
  },
  {
   "cell_type": "code",
   "execution_count": null,
   "metadata": {},
   "outputs": [],
   "source": []
  }
 ],
 "metadata": {
  "kernelspec": {
   "display_name": "Python 3",
   "language": "python",
   "name": "python3"
  },
  "language_info": {
   "codemirror_mode": {
    "name": "ipython",
    "version": 3
   },
   "file_extension": ".py",
   "mimetype": "text/x-python",
   "name": "python",
   "nbconvert_exporter": "python",
   "pygments_lexer": "ipython3",
   "version": "3.7.3"
  }
 },
 "nbformat": 4,
 "nbformat_minor": 2
}
